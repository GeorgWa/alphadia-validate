{
 "cells": [
  {
   "cell_type": "code",
   "metadata": {},
   "source": [
    "%reload_ext autoreload\n",
    "%autoreload 2\n",
    "\n",
    "from alpharaw.mzml import MzMLReader\n",
    "import numpy as np\n",
    "import pandas as pd\n",
    "import matplotlib.pyplot as plt\n",
    "import seaborn as sns\n",
    "import os\n",
    "\n",
    "from alphabase.spectral_library.base import SpecLibBase"
   ],
   "outputs": [],
   "execution_count": null
  },
  {
   "metadata": {},
   "cell_type": "code",
   "source": [
    "base_folder = \"/Users/georgwallmann/Documents/data/alphadia-validate/\"\n",
    "data_folder = f'{base_folder}/data'\n",
    "output_folder = f'{base_folder}/output'"
   ],
   "outputs": [],
   "execution_count": null
  },
  {
   "metadata": {},
   "cell_type": "markdown",
   "source": [
    "#### Obtain raw & results data\n",
    "Note: this is just required if you did not run the search yourself in search_1.10.0.ipynb"
   ]
  },
  {
   "metadata": {},
   "cell_type": "code",
   "source": [
    "for folder in [data_folder, output_folder]:\n",
    "    if not os.path.exists(folder):\n",
    "        os.makedirs(folder)\n",
    "\n",
    "# HeLa library as used in the getting started guide\n",
    "library_url = \"https://datashare.biochem.mpg.de/s/Nsp8CaHMBf7FHq1/download?path=%2Ffirst_pass&files=speclib.hdf\"\n",
    "\n",
    "# Bulk injections of HeLa cell lysate acquired on the Orbitrap Astral\n",
    "raw_data_url_list = [\n",
    "    \"https://datashare.biochem.mpg.de/s/Nsp8CaHMBf7FHq1/download?path=%2Fraw_data&files=20231023_OA3_TiHe_ADIAMA_HeLa_200ng_Evo01_21min_F-40_iO_after_01.raw\",\n",
    "    #\"https://datashare.biochem.mpg.de/s/Nsp8CaHMBf7FHq1/download?path=%2Fraw_data&files=20231023_OA3_TiHe_ADIAMA_HeLa_200ng_Evo01_21min_F-40_iO_after_02.raw\",\n",
    "    #\"https://datashare.biochem.mpg.de/s/Nsp8CaHMBf7FHq1/download?path=%2Fraw_data&files=20231023_OA3_TiHe_ADIAMA_HeLa_200ng_Evo01_21min_F-40_iO_after_02.raw\",\n",
    "]\n",
    "\n",
    "precursors_tsv_url = \"https://datashare.biochem.mpg.de/s/9JIfPb4b0737qj9/download?path=%2Fguide_results_libfree-gui%2Fsecond_pass&files=precursors.tsv\"\n",
    "\n",
    "speclib_url = \"https://datashare.biochem.mpg.de/s/9JIfPb4b0737qj9/download?path=%2Fguide_results_libfree-gui%2Fsecond_pass&files=speclib.hdf\"\n",
    "\n",
    "\n",
    "from alphadia.test_data_downloader import DataShareDownloader\n",
    "_ = [DataShareDownloader(url, data_folder).download() for url in raw_data_url_list]\n",
    "_ = DataShareDownloader(library_url, data_folder).download()\n",
    "_ = DataShareDownloader(precursors_tsv_url, output_folder).download()\n",
    "_ = DataShareDownloader(speclib_url, output_folder).download()"
   ],
   "outputs": [],
   "execution_count": null
  },
  {
   "cell_type": "markdown",
   "metadata": {},
   "source": [
    "### 1. Set up data\n",
    "First we will point our notebook to the raw file and search results obtained using this raw file.\n",
    "\n",
    "We will then load three objects into the notebook:\n",
    "- The raw DIA data `dia_data`\n",
    "- The search results `precursor_df`\n",
    "- The spectral library `spectral_library`"
   ]
  },
  {
   "cell_type": "code",
   "metadata": {},
   "source": [
    "raw_files = [\n",
    "     f\"{data_folder}/20231017_OA2_TiHe_ADIAMA_HeLa_200ng_Evo011_21min_F-40_05.raw\"\n",
    "]\n",
    "\n",
    "current_raw_name = os.path.basename(raw_files[0]).replace('.raw', '')\n",
    "current_raw_path = raw_files[0]\n",
    "\n",
    "search_results = output_folder"
   ],
   "outputs": [],
   "execution_count": null
  },
  {
   "cell_type": "code",
   "metadata": {},
   "source": [
    "precursor_df = pd.read_csv(os.path.join(search_results,'precursors.tsv'), sep='\\t')\n",
    "precursor_df = precursor_df[precursor_df['run'] == current_raw_name]\n",
    "\n",
    "spectral_library = SpecLibBase()\n",
    "spectral_library.load_hdf(os.path.join(search_results,'speclib.hdf'))"
   ],
   "outputs": [],
   "execution_count": null
  },
  {
   "cell_type": "code",
   "metadata": {},
   "source": [
    "from alphadia.data.alpharaw_wrapper import Thermo\n",
    "dia_data =  Thermo(current_raw_path)"
   ],
   "outputs": [],
   "execution_count": null
  },
  {
   "cell_type": "markdown",
   "metadata": {},
   "source": [
    "### 2. Inspect data\n",
    "Next we want to inspect the data structures to get a better understanding of the data.\n",
    "\n",
    "#### 2.1 Spectral library\n",
    "We will start with the spectral library.\n",
    "It's an alphabase SpecLibBase object, which contains the following attributes:\n",
    "- `precursor_df`: a pandas DataFrame containing the precursor information\n",
    "- `fragment_mz_df`: a pandas DataFrame containing the fragment m/z values\n",
    "- `fragment_intensity_df`: a pandas DataFrame containing the fragment intensities\n",
    "\n",
    "The `precursor_df` links to the fragment_mz_df and fragment_intensity_df via the `frag_start_idx` and `frag_stop_idx` columns.\n",
    "For unique indexing we will use the `mod_seq_charge_hash` column."
   ]
  },
  {
   "cell_type": "code",
   "metadata": {},
   "source": [
    "spectral_library.precursor_df[['precursor_mz', 'sequence', 'mods', 'mod_sites', 'charge', 'mod_seq_charge_hash', 'frag_start_idx', 'frag_stop_idx']].head()"
   ],
   "outputs": [],
   "execution_count": null
  },
  {
   "cell_type": "code",
   "metadata": {},
   "source": [
    "spectral_library.fragment_mz_df.head()"
   ],
   "outputs": [],
   "execution_count": null
  },
  {
   "cell_type": "code",
   "metadata": {},
   "source": [
    "spectral_library.fragment_intensity_df.head()"
   ],
   "outputs": [],
   "execution_count": null
  },
  {
   "cell_type": "markdown",
   "metadata": {},
   "source": [
    "#### 2.2 Precursor data\n",
    "\n",
    "The identified precursors following search are stored in the `precursor_df` DataFrame.\n",
    "The precursors in this dataframe come from the spectral library but have aditional information on their identification.\n",
    "\n",
    "The most important columns are:\n",
    "- `mod_seq_charge_hash`: the hash of the precursor sequence and charge\n",
    "\n",
    "The scans where they were identified called frames.\n",
    "- `frame_start`: the frame number of the first frame in the run.\n",
    "- `frame_stop`: the frame number of the last frame in the run\n",
    "\n",
    "Furthermore there is the q-value and a multitude of scores that were used to identify the precursor."
   ]
  },
  {
   "cell_type": "code",
   "metadata": {},
   "source": [
    "precursor_df.head()"
   ],
   "outputs": [],
   "execution_count": null
  },
  {
   "cell_type": "markdown",
   "metadata": {},
   "source": [
    "#### 2.3 DIA data\n",
    "\n",
    "Last, we have the raw DIA data objecrt loaded from the Thermo raw file.\n",
    "\n",
    "This object contains all scans in the `dia_data.spectrum_df` DataFrame.\n",
    "Each spectrum points to a collection of peak based on the `peak_start_idx` and `peak_stop_idx` columns.\n",
    "\n",
    "These point to the `dia_data.peak_df` DataFrame, which contains the peak information."
   ]
  },
  {
   "cell_type": "code",
   "metadata": {},
   "source": [
    "dia_data.spectrum_df.head()"
   ],
   "outputs": [],
   "execution_count": null
  },
  {
   "cell_type": "code",
   "metadata": {},
   "source": [
    "dia_data.peak_df.head()"
   ],
   "outputs": [],
   "execution_count": null
  },
  {
   "cell_type": "markdown",
   "metadata": {},
   "source": [
    "#### 3 Map precursor hit from search results to raw data\n",
    "\n",
    "Using this information we can map the identified precursors to the raw data.\n",
    "\n",
    "We will use the `get_library_entry_by_hash` function to get the library entry for a given hash.\n",
    "\n",
    "This function returns the library entry, the fragment m/z values and the fragment intensities.\n",
    "\n"
   ]
  },
  {
   "cell_type": "code",
   "metadata": {},
   "source": [
    "hash = precursor_df['mod_seq_charge_hash'].iloc[0]\n",
    "\n",
    "def get_library_entry_by_hash(speclib, hash, min_intensity=0.01):\n",
    "    speclib_entry = speclib.precursor_df[speclib.precursor_df['mod_seq_charge_hash'] == hash].iloc[0]\n",
    "\n",
    "    fragment_mz = speclib.fragment_mz_df.iloc[speclib_entry.frag_start_idx:speclib_entry.frag_stop_idx].to_numpy().flatten()\n",
    "    fragment_intensity = speclib.fragment_intensity_df.iloc[speclib_entry.frag_start_idx:speclib_entry.frag_stop_idx].to_numpy().flatten()\n",
    "    fragment_mask = fragment_intensity > min_intensity\n",
    "\n",
    "    fragment_mz = fragment_mz[fragment_mask]\n",
    "    fragment_intensity = fragment_intensity[fragment_mask]\n",
    "\n",
    "    # sort both by mz\n",
    "    fragment_order = np.argsort(fragment_mz)\n",
    "    fragment_mz = fragment_mz[fragment_order]\n",
    "    fragment_intensity = fragment_intensity[fragment_order]\n",
    "\n",
    "    return speclib_entry, fragment_mz, fragment_intensity\n",
    "\n",
    "speclib_entry, mz_library, intensity_library = get_library_entry_by_hash(spectral_library, hash)\n",
    "precursor_entry = precursor_df[precursor_df['mod_seq_charge_hash'] == hash].iloc[0]"
   ],
   "outputs": [],
   "execution_count": null
  },
  {
   "cell_type": "code",
   "metadata": {},
   "source": [
    "jit_data = dia_data.jitclass()\n",
    "\n",
    "precursor_query = np.array([[speclib_entry.precursor_mz, speclib_entry.precursor_mz]], dtype=np.float32)\n",
    "scan_limits = np.array([[precursor_entry.scan_start, precursor_entry.scan_stop, 1]], dtype=np.int64)\n",
    "frame_limits = np.array([[precursor_entry.frame_start, precursor_entry.frame_stop, 1]], dtype=np.int64)\n",
    "\n",
    "dense, precursor_index = jit_data.get_dense(\n",
    "    frame_limits,\n",
    "    scan_limits,\n",
    "    mz_library,\n",
    "    30,\n",
    "    precursor_query,\n",
    ")"
   ],
   "outputs": [],
   "execution_count": null
  },
  {
   "cell_type": "markdown",
   "metadata": {},
   "source": [
    "#### 4 Visualize precursor data\n",
    "\n",
    "Now, we want to viosualize the retrieved spectrum data.\n",
    "We will start by visualizing the observed spectrum and the library spectrum.\n",
    "\n",
    "The spectrum data `dense` is a 5 dimensional numpy array with a dense slice of the spectrum space.\n",
    "The dimensions are:\n",
    "- 0: either intensity information 0 or relative mass error 1\n",
    "- 1: index of the fragment mz which was queried\n",
    "- 2: ion mobility dimension (will be zero for DIA data)\n",
    "- 3: The observations in the DIA cycle. As there might be multiple quadrupole windows where the precursor was detected, this will be a list of observations.\n",
    "- 4: Retention time datapoints.\n",
    "\n",
    "First we will select the intensity dimension and sum over all other dimensions but the fragment mz dimension.\n"
   ]
  },
  {
   "cell_type": "code",
   "metadata": {},
   "source": [
    "intensity_observed = dense[0].sum(axis=(1,2,3))\n",
    "intensity_observed_normalized = intensity_observed / intensity_observed.max()\n",
    "intensity_library_normalized = intensity_library / intensity_library.max()\n",
    "\n",
    "plt.stem(mz_library, intensity_observed_normalized)\n",
    "plt.stem(mz_library, -intensity_library_normalized)\n",
    "plt.show()"
   ],
   "outputs": [],
   "execution_count": null
  },
  {
   "cell_type": "markdown",
   "metadata": {},
   "source": [
    "Finally, we will visualize the Precusor ion chromatogram.\n",
    "We will again select the intensity dimension and sum over ion mobility and observation but leave the retention time dimension.\n"
   ]
  },
  {
   "cell_type": "code",
   "metadata": {},
   "source": [
    "xic_observed = dense[0].sum(axis=(1,2))\n",
    "for i in range(xic_observed.shape[0]):\n",
    "    plt.plot(xic_observed[i])\n",
    "plt.show()"
   ],
   "outputs": [],
   "execution_count": null
  }
 ],
 "metadata": {
  "kernelspec": {
   "display_name": "alpha",
   "language": "python",
   "name": "python3"
  },
  "language_info": {
   "codemirror_mode": {
    "name": "ipython",
    "version": 3
   },
   "file_extension": ".py",
   "mimetype": "text/x-python",
   "name": "python",
   "nbconvert_exporter": "python",
   "pygments_lexer": "ipython3",
   "version": "3.11.7"
  },
  "orig_nbformat": 4
 },
 "nbformat": 4,
 "nbformat_minor": 2
}
