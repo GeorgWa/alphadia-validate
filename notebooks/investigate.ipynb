{
 "cells": [
  {
   "cell_type": "code",
   "execution_count": 34,
   "metadata": {
    "ExecuteTime": {
     "end_time": "2025-02-04T09:11:59.834293Z",
     "start_time": "2025-02-04T09:11:59.774674Z"
    }
   },
   "outputs": [],
   "source": [
    "from pathlib import Path\n",
    "\n",
    "%reload_ext autoreload\n",
    "%autoreload 2\n",
    "\n",
    "from alpharaw.mzml import MzMLReader\n",
    "import numpy as np\n",
    "import pandas as pd\n",
    "import matplotlib.pyplot as plt\n",
    "import seaborn as sns\n",
    "import os\n",
    "\n",
    "from alphabase.spectral_library.base import SpecLibBase"
   ]
  },
  {
   "cell_type": "code",
   "execution_count": 35,
   "metadata": {
    "ExecuteTime": {
     "end_time": "2025-02-04T09:11:59.879705Z",
     "start_time": "2025-02-04T09:11:59.837420Z"
    }
   },
   "outputs": [],
   "source": [
    "root = Path(\"~//data/alphadia-validate/\").expanduser()\n",
    "\n",
    "data_folder = root / \"data\"\n",
    "output_folder = root / \"output\""
   ]
  },
  {
   "cell_type": "markdown",
   "metadata": {},
   "source": [
    "#### Obtain raw & results data\n",
    "Note: this is just required if you did not run the search yourself in search_1.10.0.ipynb"
   ]
  },
  {
   "cell_type": "code",
   "execution_count": 36,
   "metadata": {
    "ExecuteTime": {
     "end_time": "2025-02-04T09:12:01.304167Z",
     "start_time": "2025-02-04T09:11:59.891204Z"
    }
   },
   "outputs": [
    {
     "name": "stdout",
     "output_type": "stream",
     "text": [
      "/Users/mschwoerer/data/alphadia-validate/data/20231017_OA2_TiHe_ADIAMA_HeLa_200ng_Evo011_21min_F-40_07.raw already exists\n",
      "/Users/mschwoerer/data/alphadia-validate/output/precursors.tsv already exists\n",
      "/Users/mschwoerer/data/alphadia-validate/output/speclib.hdf already exists\n"
     ]
    }
   ],
   "source": [
    "for folder in [data_folder, output_folder]:\n",
    "    if not os.path.exists(folder):\n",
    "        os.makedirs(folder)\n",
    "\n",
    "# Bulk injections of HeLa cell lysate acquired on the Orbitrap Astral\n",
    "raw_data_url_list = [\n",
    "    \"https://datashare.biochem.mpg.de/s/339jg5HtGrwLwDN/download?files=20231017_OA2_TiHe_ADIAMA_HeLa_200ng_Evo011_21min_F-40_07.raw\",\n",
    "]\n",
    "\n",
    "# results from search_1.10.0.ipynb\n",
    "precursors_tsv_url = \"https://datashare.biochem.mpg.de/s/fsCqlT757ttVWI8\"\n",
    "speclib_url = \"https://datashare.biochem.mpg.de/s/VxakpS6mhM2IwxJ\"\n",
    "\n",
    "\n",
    "from alphadia.test_data_downloader import DataShareDownloader\n",
    "\n",
    "raw_file_paths = [\n",
    "    DataShareDownloader(url, data_folder).download() for url in raw_data_url_list\n",
    "]\n",
    "precursors_tsv_path = DataShareDownloader(precursors_tsv_url, output_folder).download()\n",
    "speclib_path = DataShareDownloader(speclib_url, output_folder).download()"
   ]
  },
  {
   "cell_type": "markdown",
   "metadata": {},
   "source": [
    "### 1. Set up data\n",
    "First we will point our notebook to the raw file and search results obtained using this raw file.\n",
    "\n",
    "We will then load three objects into the notebook:\n",
    "- The raw DIA data `dia_data`\n",
    "- The search results `precursor_df`\n",
    "- The spectral library `spectral_library`"
   ]
  },
  {
   "cell_type": "code",
   "execution_count": 37,
   "metadata": {
    "ExecuteTime": {
     "end_time": "2025-02-04T09:12:01.365132Z",
     "start_time": "2025-02-04T09:12:01.316892Z"
    }
   },
   "outputs": [],
   "source": [
    "current_raw_name = os.path.basename(raw_file_paths[0]).replace(\".raw\", \"\")\n",
    "current_raw_path = raw_file_paths[0]"
   ]
  },
  {
   "cell_type": "code",
   "execution_count": 38,
   "metadata": {
    "ExecuteTime": {
     "end_time": "2025-02-04T09:12:02.575799Z",
     "start_time": "2025-02-04T09:12:01.378026Z"
    }
   },
   "outputs": [],
   "source": [
    "precursor_df = pd.read_csv(precursors_tsv_path, sep=\"\\t\")\n",
    "precursor_df = precursor_df[precursor_df[\"run\"] == current_raw_name]\n",
    "\n",
    "spectral_library = SpecLibBase()\n",
    "spectral_library.load_hdf(speclib_path)"
   ]
  },
  {
   "cell_type": "code",
   "execution_count": 39,
   "metadata": {
    "ExecuteTime": {
     "end_time": "2025-02-04T09:12:21.379863Z",
     "start_time": "2025-02-04T09:12:02.586139Z"
    }
   },
   "outputs": [
    {
     "name": "stderr",
     "output_type": "stream",
     "text": [
      "49it [00:16,  2.89it/s]\n"
     ]
    }
   ],
   "source": [
    "from alphadia.data.alpharaw_wrapper import Thermo\n",
    "\n",
    "dia_data = Thermo(current_raw_path)"
   ]
  },
  {
   "cell_type": "markdown",
   "metadata": {},
   "source": [
    "### 2. Inspect data\n",
    "Next we want to inspect the data structures to get a better understanding of the data.\n",
    "\n",
    "#### 2.1 Spectral library\n",
    "We will start with the spectral library.\n",
    "It's an alphabase SpecLibBase object, which contains the following attributes:\n",
    "- `precursor_df`: a pandas DataFrame containing the precursor information\n",
    "- `fragment_mz_df`: a pandas DataFrame containing the fragment m/z values\n",
    "- `fragment_intensity_df`: a pandas DataFrame containing the fragment intensities\n",
    "\n",
    "The `precursor_df` links to the fragment_mz_df and fragment_intensity_df via the `frag_start_idx` and `frag_stop_idx` columns.\n",
    "For unique indexing we will use the `mod_seq_charge_hash` column."
   ]
  },
  {
   "cell_type": "code",
   "execution_count": 40,
   "metadata": {
    "ExecuteTime": {
     "end_time": "2025-02-04T09:12:21.442633Z",
     "start_time": "2025-02-04T09:12:21.392248Z"
    }
   },
   "outputs": [
    {
     "data": {
      "text/html": [
       "<div>\n",
       "<style scoped>\n",
       "    .dataframe tbody tr th:only-of-type {\n",
       "        vertical-align: middle;\n",
       "    }\n",
       "\n",
       "    .dataframe tbody tr th {\n",
       "        vertical-align: top;\n",
       "    }\n",
       "\n",
       "    .dataframe thead th {\n",
       "        text-align: right;\n",
       "    }\n",
       "</style>\n",
       "<table border=\"1\" class=\"dataframe\">\n",
       "  <thead>\n",
       "    <tr style=\"text-align: right;\">\n",
       "      <th></th>\n",
       "      <th>precursor_mz</th>\n",
       "      <th>sequence</th>\n",
       "      <th>mods</th>\n",
       "      <th>mod_sites</th>\n",
       "      <th>charge</th>\n",
       "      <th>mod_seq_charge_hash</th>\n",
       "      <th>frag_start_idx</th>\n",
       "      <th>frag_stop_idx</th>\n",
       "    </tr>\n",
       "  </thead>\n",
       "  <tbody>\n",
       "    <tr>\n",
       "      <th>0</th>\n",
       "      <td>474.764789</td>\n",
       "      <td>MIIWLEK</td>\n",
       "      <td>Oxidation@M</td>\n",
       "      <td>1</td>\n",
       "      <td>2</td>\n",
       "      <td>6778347273406786435</td>\n",
       "      <td>0</td>\n",
       "      <td>6</td>\n",
       "    </tr>\n",
       "    <tr>\n",
       "      <th>1</th>\n",
       "      <td>466.220746</td>\n",
       "      <td>FYSQQMK</td>\n",
       "      <td></td>\n",
       "      <td></td>\n",
       "      <td>2</td>\n",
       "      <td>15522010155980186642</td>\n",
       "      <td>6</td>\n",
       "      <td>12</td>\n",
       "    </tr>\n",
       "    <tr>\n",
       "      <th>2</th>\n",
       "      <td>409.218726</td>\n",
       "      <td>ADIEEIK</td>\n",
       "      <td></td>\n",
       "      <td></td>\n",
       "      <td>2</td>\n",
       "      <td>1205537395403030235</td>\n",
       "      <td>12</td>\n",
       "      <td>18</td>\n",
       "    </tr>\n",
       "    <tr>\n",
       "      <th>3</th>\n",
       "      <td>817.430175</td>\n",
       "      <td>ADIEEIK</td>\n",
       "      <td></td>\n",
       "      <td></td>\n",
       "      <td>1</td>\n",
       "      <td>1205537395403030234</td>\n",
       "      <td>18</td>\n",
       "      <td>24</td>\n",
       "    </tr>\n",
       "    <tr>\n",
       "      <th>4</th>\n",
       "      <td>451.215463</td>\n",
       "      <td>MFVSDFR</td>\n",
       "      <td></td>\n",
       "      <td></td>\n",
       "      <td>2</td>\n",
       "      <td>11088622922221221635</td>\n",
       "      <td>24</td>\n",
       "      <td>30</td>\n",
       "    </tr>\n",
       "  </tbody>\n",
       "</table>\n",
       "</div>"
      ],
      "text/plain": [
       "   precursor_mz sequence         mods mod_sites  charge   mod_seq_charge_hash  \\\n",
       "0    474.764789  MIIWLEK  Oxidation@M         1       2   6778347273406786435   \n",
       "1    466.220746  FYSQQMK                              2  15522010155980186642   \n",
       "2    409.218726  ADIEEIK                              2   1205537395403030235   \n",
       "3    817.430175  ADIEEIK                              1   1205537395403030234   \n",
       "4    451.215463  MFVSDFR                              2  11088622922221221635   \n",
       "\n",
       "   frag_start_idx  frag_stop_idx  \n",
       "0               0              6  \n",
       "1               6             12  \n",
       "2              12             18  \n",
       "3              18             24  \n",
       "4              24             30  "
      ]
     },
     "execution_count": 40,
     "metadata": {},
     "output_type": "execute_result"
    }
   ],
   "source": [
    "spectral_library.precursor_df[\n",
    "    [\n",
    "        \"precursor_mz\",\n",
    "        \"sequence\",\n",
    "        \"mods\",\n",
    "        \"mod_sites\",\n",
    "        \"charge\",\n",
    "        \"mod_seq_charge_hash\",\n",
    "        \"frag_start_idx\",\n",
    "        \"frag_stop_idx\",\n",
    "    ]\n",
    "].head()"
   ]
  },
  {
   "cell_type": "code",
   "execution_count": 41,
   "metadata": {
    "ExecuteTime": {
     "end_time": "2025-02-04T09:12:21.502427Z",
     "start_time": "2025-02-04T09:12:21.466928Z"
    }
   },
   "outputs": [
    {
     "data": {
      "text/html": [
       "<div>\n",
       "<style scoped>\n",
       "    .dataframe tbody tr th:only-of-type {\n",
       "        vertical-align: middle;\n",
       "    }\n",
       "\n",
       "    .dataframe tbody tr th {\n",
       "        vertical-align: top;\n",
       "    }\n",
       "\n",
       "    .dataframe thead th {\n",
       "        text-align: right;\n",
       "    }\n",
       "</style>\n",
       "<table border=\"1\" class=\"dataframe\">\n",
       "  <thead>\n",
       "    <tr style=\"text-align: right;\">\n",
       "      <th></th>\n",
       "      <th>b_z1</th>\n",
       "      <th>b_z2</th>\n",
       "      <th>y_z1</th>\n",
       "      <th>y_z2</th>\n",
       "    </tr>\n",
       "  </thead>\n",
       "  <tbody>\n",
       "    <tr>\n",
       "      <th>0</th>\n",
       "      <td>148.042679</td>\n",
       "      <td>74.524979</td>\n",
       "      <td>801.486877</td>\n",
       "      <td>401.247101</td>\n",
       "    </tr>\n",
       "    <tr>\n",
       "      <th>1</th>\n",
       "      <td>261.126740</td>\n",
       "      <td>131.067001</td>\n",
       "      <td>688.402832</td>\n",
       "      <td>344.705048</td>\n",
       "    </tr>\n",
       "    <tr>\n",
       "      <th>2</th>\n",
       "      <td>374.210815</td>\n",
       "      <td>187.609039</td>\n",
       "      <td>575.318787</td>\n",
       "      <td>288.163025</td>\n",
       "    </tr>\n",
       "    <tr>\n",
       "      <th>3</th>\n",
       "      <td>560.290100</td>\n",
       "      <td>280.648682</td>\n",
       "      <td>389.239471</td>\n",
       "      <td>195.123367</td>\n",
       "    </tr>\n",
       "    <tr>\n",
       "      <th>4</th>\n",
       "      <td>673.374207</td>\n",
       "      <td>337.190735</td>\n",
       "      <td>276.155396</td>\n",
       "      <td>138.581329</td>\n",
       "    </tr>\n",
       "  </tbody>\n",
       "</table>\n",
       "</div>"
      ],
      "text/plain": [
       "         b_z1        b_z2        y_z1        y_z2\n",
       "0  148.042679   74.524979  801.486877  401.247101\n",
       "1  261.126740  131.067001  688.402832  344.705048\n",
       "2  374.210815  187.609039  575.318787  288.163025\n",
       "3  560.290100  280.648682  389.239471  195.123367\n",
       "4  673.374207  337.190735  276.155396  138.581329"
      ]
     },
     "execution_count": 41,
     "metadata": {},
     "output_type": "execute_result"
    }
   ],
   "source": [
    "spectral_library.fragment_mz_df.head()"
   ]
  },
  {
   "cell_type": "code",
   "execution_count": 42,
   "metadata": {
    "ExecuteTime": {
     "end_time": "2025-02-04T09:12:21.573652Z",
     "start_time": "2025-02-04T09:12:21.536315Z"
    }
   },
   "outputs": [
    {
     "data": {
      "text/html": [
       "<div>\n",
       "<style scoped>\n",
       "    .dataframe tbody tr th:only-of-type {\n",
       "        vertical-align: middle;\n",
       "    }\n",
       "\n",
       "    .dataframe tbody tr th {\n",
       "        vertical-align: top;\n",
       "    }\n",
       "\n",
       "    .dataframe thead th {\n",
       "        text-align: right;\n",
       "    }\n",
       "</style>\n",
       "<table border=\"1\" class=\"dataframe\">\n",
       "  <thead>\n",
       "    <tr style=\"text-align: right;\">\n",
       "      <th></th>\n",
       "      <th>b_z1</th>\n",
       "      <th>b_z2</th>\n",
       "      <th>y_z1</th>\n",
       "      <th>y_z2</th>\n",
       "    </tr>\n",
       "  </thead>\n",
       "  <tbody>\n",
       "    <tr>\n",
       "      <th>0</th>\n",
       "      <td>0.000000</td>\n",
       "      <td>0.0</td>\n",
       "      <td>0.125327</td>\n",
       "      <td>0.000000</td>\n",
       "    </tr>\n",
       "    <tr>\n",
       "      <th>1</th>\n",
       "      <td>0.335304</td>\n",
       "      <td>0.0</td>\n",
       "      <td>1.000000</td>\n",
       "      <td>0.049048</td>\n",
       "    </tr>\n",
       "    <tr>\n",
       "      <th>2</th>\n",
       "      <td>0.282448</td>\n",
       "      <td>0.0</td>\n",
       "      <td>0.614709</td>\n",
       "      <td>0.001847</td>\n",
       "    </tr>\n",
       "    <tr>\n",
       "      <th>3</th>\n",
       "      <td>0.058418</td>\n",
       "      <td>0.0</td>\n",
       "      <td>0.219854</td>\n",
       "      <td>0.000000</td>\n",
       "    </tr>\n",
       "    <tr>\n",
       "      <th>4</th>\n",
       "      <td>0.024189</td>\n",
       "      <td>0.0</td>\n",
       "      <td>0.172246</td>\n",
       "      <td>0.000000</td>\n",
       "    </tr>\n",
       "  </tbody>\n",
       "</table>\n",
       "</div>"
      ],
      "text/plain": [
       "       b_z1  b_z2      y_z1      y_z2\n",
       "0  0.000000   0.0  0.125327  0.000000\n",
       "1  0.335304   0.0  1.000000  0.049048\n",
       "2  0.282448   0.0  0.614709  0.001847\n",
       "3  0.058418   0.0  0.219854  0.000000\n",
       "4  0.024189   0.0  0.172246  0.000000"
      ]
     },
     "execution_count": 42,
     "metadata": {},
     "output_type": "execute_result"
    }
   ],
   "source": [
    "spectral_library.fragment_intensity_df.head()"
   ]
  },
  {
   "cell_type": "markdown",
   "metadata": {},
   "source": [
    "#### 2.2 Precursor data\n",
    "\n",
    "The identified precursors following search are stored in the `precursor_df` DataFrame.\n",
    "The precursors in this dataframe come from the spectral library but have aditional information on their identification.\n",
    "\n",
    "The most important columns are:\n",
    "- `mod_seq_charge_hash`: the hash of the precursor sequence and charge\n",
    "\n",
    "The scans where they were identified called frames.\n",
    "- `frame_start`: the frame number of the first frame in the run.\n",
    "- `frame_stop`: the frame number of the last frame in the run\n",
    "\n",
    "Furthermore there is the q-value and a multitude of scores that were used to identify the precursor."
   ]
  },
  {
   "cell_type": "code",
   "execution_count": 43,
   "metadata": {
    "ExecuteTime": {
     "end_time": "2025-02-04T09:12:21.645619Z",
     "start_time": "2025-02-04T09:12:21.605201Z"
    }
   },
   "outputs": [
    {
     "data": {
      "text/html": [
       "<div>\n",
       "<style scoped>\n",
       "    .dataframe tbody tr th:only-of-type {\n",
       "        vertical-align: middle;\n",
       "    }\n",
       "\n",
       "    .dataframe tbody tr th {\n",
       "        vertical-align: top;\n",
       "    }\n",
       "\n",
       "    .dataframe thead th {\n",
       "        text-align: right;\n",
       "    }\n",
       "</style>\n",
       "<table border=\"1\" class=\"dataframe\">\n",
       "  <thead>\n",
       "    <tr style=\"text-align: right;\">\n",
       "      <th></th>\n",
       "      <th>base_width_mobility</th>\n",
       "      <th>base_width_rt</th>\n",
       "      <th>rt_observed</th>\n",
       "      <th>mobility_observed</th>\n",
       "      <th>mono_ms1_intensity</th>\n",
       "      <th>top_ms1_intensity</th>\n",
       "      <th>sum_ms1_intensity</th>\n",
       "      <th>weighted_ms1_intensity</th>\n",
       "      <th>weighted_mass_deviation</th>\n",
       "      <th>weighted_mass_error</th>\n",
       "      <th>...</th>\n",
       "      <th>_candidate_idx</th>\n",
       "      <th>valid</th>\n",
       "      <th>candidate_idx</th>\n",
       "      <th>run</th>\n",
       "      <th>mod_seq_hash</th>\n",
       "      <th>mod_seq_charge_hash</th>\n",
       "      <th>pg_master</th>\n",
       "      <th>pg</th>\n",
       "      <th>pg_qval</th>\n",
       "      <th>intensity</th>\n",
       "    </tr>\n",
       "  </thead>\n",
       "  <tbody>\n",
       "    <tr>\n",
       "      <th>0</th>\n",
       "      <td>0.0</td>\n",
       "      <td>20.185303</td>\n",
       "      <td>878.493469</td>\n",
       "      <td>0.000001</td>\n",
       "      <td>7.403505e+09</td>\n",
       "      <td>7.403505e+09</td>\n",
       "      <td>1.508568e+10</td>\n",
       "      <td>5.548682e+09</td>\n",
       "      <td>0.023692</td>\n",
       "      <td>0.023692</td>\n",
       "      <td>...</td>\n",
       "      <td>250551</td>\n",
       "      <td>True</td>\n",
       "      <td>250551</td>\n",
       "      <td>20231017_OA2_TiHe_ADIAMA_HeLa_200ng_Evo011_21m...</td>\n",
       "      <td>13886784644007243628</td>\n",
       "      <td>13886784644007243630</td>\n",
       "      <td>P62805</td>\n",
       "      <td>P62805</td>\n",
       "      <td>0.0</td>\n",
       "      <td>4.407890e+09</td>\n",
       "    </tr>\n",
       "    <tr>\n",
       "      <th>1</th>\n",
       "      <td>0.0</td>\n",
       "      <td>23.255554</td>\n",
       "      <td>685.877808</td>\n",
       "      <td>0.000001</td>\n",
       "      <td>1.020231e+10</td>\n",
       "      <td>1.020231e+10</td>\n",
       "      <td>1.767223e+10</td>\n",
       "      <td>7.734530e+09</td>\n",
       "      <td>-0.178309</td>\n",
       "      <td>0.178309</td>\n",
       "      <td>...</td>\n",
       "      <td>28615</td>\n",
       "      <td>True</td>\n",
       "      <td>28615</td>\n",
       "      <td>20231017_OA2_TiHe_ADIAMA_HeLa_200ng_Evo011_21m...</td>\n",
       "      <td>14751110910839796002</td>\n",
       "      <td>14751110910839796004</td>\n",
       "      <td>P62805</td>\n",
       "      <td>P62805</td>\n",
       "      <td>0.0</td>\n",
       "      <td>4.407890e+09</td>\n",
       "    </tr>\n",
       "    <tr>\n",
       "      <th>2</th>\n",
       "      <td>0.0</td>\n",
       "      <td>10.868530</td>\n",
       "      <td>207.885986</td>\n",
       "      <td>0.000001</td>\n",
       "      <td>1.231147e+06</td>\n",
       "      <td>1.231147e+06</td>\n",
       "      <td>2.963482e+06</td>\n",
       "      <td>9.690639e+05</td>\n",
       "      <td>1.002455</td>\n",
       "      <td>1.002455</td>\n",
       "      <td>...</td>\n",
       "      <td>430315</td>\n",
       "      <td>True</td>\n",
       "      <td>430315</td>\n",
       "      <td>20231017_OA2_TiHe_ADIAMA_HeLa_200ng_Evo011_21m...</td>\n",
       "      <td>8447969178672477057</td>\n",
       "      <td>8447969178672477059</td>\n",
       "      <td>P05198</td>\n",
       "      <td>P05198</td>\n",
       "      <td>0.0</td>\n",
       "      <td>8.145818e+07</td>\n",
       "    </tr>\n",
       "    <tr>\n",
       "      <th>3</th>\n",
       "      <td>0.0</td>\n",
       "      <td>32.611755</td>\n",
       "      <td>335.372009</td>\n",
       "      <td>0.000001</td>\n",
       "      <td>3.080493e+07</td>\n",
       "      <td>3.080493e+07</td>\n",
       "      <td>6.823846e+07</td>\n",
       "      <td>2.349190e+07</td>\n",
       "      <td>0.552120</td>\n",
       "      <td>0.552120</td>\n",
       "      <td>...</td>\n",
       "      <td>432992</td>\n",
       "      <td>True</td>\n",
       "      <td>432992</td>\n",
       "      <td>20231017_OA2_TiHe_ADIAMA_HeLa_200ng_Evo011_21m...</td>\n",
       "      <td>16672682504243237715</td>\n",
       "      <td>16672682504243237717</td>\n",
       "      <td>P24534</td>\n",
       "      <td>P24534</td>\n",
       "      <td>0.0</td>\n",
       "      <td>1.414546e+08</td>\n",
       "    </tr>\n",
       "    <tr>\n",
       "      <th>4</th>\n",
       "      <td>0.0</td>\n",
       "      <td>17.024841</td>\n",
       "      <td>489.280182</td>\n",
       "      <td>0.000001</td>\n",
       "      <td>5.295387e+09</td>\n",
       "      <td>5.295387e+09</td>\n",
       "      <td>9.861745e+09</td>\n",
       "      <td>4.008995e+09</td>\n",
       "      <td>0.433430</td>\n",
       "      <td>0.433430</td>\n",
       "      <td>...</td>\n",
       "      <td>94164</td>\n",
       "      <td>True</td>\n",
       "      <td>94164</td>\n",
       "      <td>20231017_OA2_TiHe_ADIAMA_HeLa_200ng_Evo011_21m...</td>\n",
       "      <td>12739187365774023873</td>\n",
       "      <td>12739187365774023875</td>\n",
       "      <td>P62805</td>\n",
       "      <td>P62805</td>\n",
       "      <td>0.0</td>\n",
       "      <td>4.407890e+09</td>\n",
       "    </tr>\n",
       "  </tbody>\n",
       "</table>\n",
       "<p>5 rows × 92 columns</p>\n",
       "</div>"
      ],
      "text/plain": [
       "   base_width_mobility  base_width_rt  rt_observed  mobility_observed  \\\n",
       "0                  0.0      20.185303   878.493469           0.000001   \n",
       "1                  0.0      23.255554   685.877808           0.000001   \n",
       "2                  0.0      10.868530   207.885986           0.000001   \n",
       "3                  0.0      32.611755   335.372009           0.000001   \n",
       "4                  0.0      17.024841   489.280182           0.000001   \n",
       "\n",
       "   mono_ms1_intensity  top_ms1_intensity  sum_ms1_intensity  \\\n",
       "0        7.403505e+09       7.403505e+09       1.508568e+10   \n",
       "1        1.020231e+10       1.020231e+10       1.767223e+10   \n",
       "2        1.231147e+06       1.231147e+06       2.963482e+06   \n",
       "3        3.080493e+07       3.080493e+07       6.823846e+07   \n",
       "4        5.295387e+09       5.295387e+09       9.861745e+09   \n",
       "\n",
       "   weighted_ms1_intensity  weighted_mass_deviation  weighted_mass_error  ...  \\\n",
       "0            5.548682e+09                 0.023692             0.023692  ...   \n",
       "1            7.734530e+09                -0.178309             0.178309  ...   \n",
       "2            9.690639e+05                 1.002455             1.002455  ...   \n",
       "3            2.349190e+07                 0.552120             0.552120  ...   \n",
       "4            4.008995e+09                 0.433430             0.433430  ...   \n",
       "\n",
       "   _candidate_idx  valid  candidate_idx  \\\n",
       "0          250551   True         250551   \n",
       "1           28615   True          28615   \n",
       "2          430315   True         430315   \n",
       "3          432992   True         432992   \n",
       "4           94164   True          94164   \n",
       "\n",
       "                                                 run          mod_seq_hash  \\\n",
       "0  20231017_OA2_TiHe_ADIAMA_HeLa_200ng_Evo011_21m...  13886784644007243628   \n",
       "1  20231017_OA2_TiHe_ADIAMA_HeLa_200ng_Evo011_21m...  14751110910839796002   \n",
       "2  20231017_OA2_TiHe_ADIAMA_HeLa_200ng_Evo011_21m...   8447969178672477057   \n",
       "3  20231017_OA2_TiHe_ADIAMA_HeLa_200ng_Evo011_21m...  16672682504243237715   \n",
       "4  20231017_OA2_TiHe_ADIAMA_HeLa_200ng_Evo011_21m...  12739187365774023873   \n",
       "\n",
       "    mod_seq_charge_hash  pg_master      pg  pg_qval     intensity  \n",
       "0  13886784644007243630     P62805  P62805      0.0  4.407890e+09  \n",
       "1  14751110910839796004     P62805  P62805      0.0  4.407890e+09  \n",
       "2   8447969178672477059     P05198  P05198      0.0  8.145818e+07  \n",
       "3  16672682504243237717     P24534  P24534      0.0  1.414546e+08  \n",
       "4  12739187365774023875     P62805  P62805      0.0  4.407890e+09  \n",
       "\n",
       "[5 rows x 92 columns]"
      ]
     },
     "execution_count": 43,
     "metadata": {},
     "output_type": "execute_result"
    }
   ],
   "source": [
    "precursor_df.head()"
   ]
  },
  {
   "cell_type": "markdown",
   "metadata": {},
   "source": [
    "#### 2.3 DIA data\n",
    "\n",
    "Last, we have the raw DIA data objecrt loaded from the Thermo raw file.\n",
    "\n",
    "This object contains all scans in the `dia_data.spectrum_df` DataFrame.\n",
    "Each spectrum points to a collection of peak based on the `peak_start_idx` and `peak_stop_idx` columns.\n",
    "\n",
    "These point to the `dia_data.peak_df` DataFrame, which contains the peak information."
   ]
  },
  {
   "cell_type": "code",
   "execution_count": 44,
   "metadata": {
    "ExecuteTime": {
     "end_time": "2025-02-04T09:12:21.722953Z",
     "start_time": "2025-02-04T09:12:21.685368Z"
    }
   },
   "outputs": [
    {
     "data": {
      "text/html": [
       "<div>\n",
       "<style scoped>\n",
       "    .dataframe tbody tr th:only-of-type {\n",
       "        vertical-align: middle;\n",
       "    }\n",
       "\n",
       "    .dataframe tbody tr th {\n",
       "        vertical-align: top;\n",
       "    }\n",
       "\n",
       "    .dataframe thead th {\n",
       "        text-align: right;\n",
       "    }\n",
       "</style>\n",
       "<table border=\"1\" class=\"dataframe\">\n",
       "  <thead>\n",
       "    <tr style=\"text-align: right;\">\n",
       "      <th></th>\n",
       "      <th>spec_idx</th>\n",
       "      <th>peak_start_idx</th>\n",
       "      <th>peak_stop_idx</th>\n",
       "      <th>rt</th>\n",
       "      <th>precursor_mz</th>\n",
       "      <th>precursor_charge</th>\n",
       "      <th>isolation_lower_mz</th>\n",
       "      <th>isolation_upper_mz</th>\n",
       "      <th>ms_level</th>\n",
       "      <th>nce</th>\n",
       "    </tr>\n",
       "  </thead>\n",
       "  <tbody>\n",
       "    <tr>\n",
       "      <th>0</th>\n",
       "      <td>0</td>\n",
       "      <td>0</td>\n",
       "      <td>35</td>\n",
       "      <td>0.000000</td>\n",
       "      <td>-1.00000</td>\n",
       "      <td>0</td>\n",
       "      <td>-1.000000</td>\n",
       "      <td>-1.000000</td>\n",
       "      <td>1</td>\n",
       "      <td>0.0</td>\n",
       "    </tr>\n",
       "    <tr>\n",
       "      <th>1</th>\n",
       "      <td>1</td>\n",
       "      <td>35</td>\n",
       "      <td>42</td>\n",
       "      <td>0.000439</td>\n",
       "      <td>385.42508</td>\n",
       "      <td>0</td>\n",
       "      <td>384.424625</td>\n",
       "      <td>386.425535</td>\n",
       "      <td>2</td>\n",
       "      <td>25.0</td>\n",
       "    </tr>\n",
       "    <tr>\n",
       "      <th>2</th>\n",
       "      <td>2</td>\n",
       "      <td>42</td>\n",
       "      <td>43</td>\n",
       "      <td>0.000521</td>\n",
       "      <td>389.42691</td>\n",
       "      <td>0</td>\n",
       "      <td>388.426455</td>\n",
       "      <td>390.427365</td>\n",
       "      <td>2</td>\n",
       "      <td>25.0</td>\n",
       "    </tr>\n",
       "    <tr>\n",
       "      <th>3</th>\n",
       "      <td>3</td>\n",
       "      <td>43</td>\n",
       "      <td>44</td>\n",
       "      <td>0.000601</td>\n",
       "      <td>395.42963</td>\n",
       "      <td>0</td>\n",
       "      <td>394.429175</td>\n",
       "      <td>396.430085</td>\n",
       "      <td>2</td>\n",
       "      <td>25.0</td>\n",
       "    </tr>\n",
       "    <tr>\n",
       "      <th>4</th>\n",
       "      <td>4</td>\n",
       "      <td>44</td>\n",
       "      <td>45</td>\n",
       "      <td>0.000694</td>\n",
       "      <td>397.43054</td>\n",
       "      <td>0</td>\n",
       "      <td>396.430085</td>\n",
       "      <td>398.430995</td>\n",
       "      <td>2</td>\n",
       "      <td>25.0</td>\n",
       "    </tr>\n",
       "  </tbody>\n",
       "</table>\n",
       "</div>"
      ],
      "text/plain": [
       "   spec_idx  peak_start_idx  peak_stop_idx        rt  precursor_mz  \\\n",
       "0         0               0             35  0.000000      -1.00000   \n",
       "1         1              35             42  0.000439     385.42508   \n",
       "2         2              42             43  0.000521     389.42691   \n",
       "3         3              43             44  0.000601     395.42963   \n",
       "4         4              44             45  0.000694     397.43054   \n",
       "\n",
       "   precursor_charge  isolation_lower_mz  isolation_upper_mz  ms_level   nce  \n",
       "0                 0           -1.000000           -1.000000         1   0.0  \n",
       "1                 0          384.424625          386.425535         2  25.0  \n",
       "2                 0          388.426455          390.427365         2  25.0  \n",
       "3                 0          394.429175          396.430085         2  25.0  \n",
       "4                 0          396.430085          398.430995         2  25.0  "
      ]
     },
     "execution_count": 44,
     "metadata": {},
     "output_type": "execute_result"
    }
   ],
   "source": [
    "dia_data.spectrum_df.head()"
   ]
  },
  {
   "cell_type": "code",
   "execution_count": 45,
   "metadata": {
    "ExecuteTime": {
     "end_time": "2025-02-04T09:12:21.800589Z",
     "start_time": "2025-02-04T09:12:21.765891Z"
    }
   },
   "outputs": [
    {
     "data": {
      "text/html": [
       "<div>\n",
       "<style scoped>\n",
       "    .dataframe tbody tr th:only-of-type {\n",
       "        vertical-align: middle;\n",
       "    }\n",
       "\n",
       "    .dataframe tbody tr th {\n",
       "        vertical-align: top;\n",
       "    }\n",
       "\n",
       "    .dataframe thead th {\n",
       "        text-align: right;\n",
       "    }\n",
       "</style>\n",
       "<table border=\"1\" class=\"dataframe\">\n",
       "  <thead>\n",
       "    <tr style=\"text-align: right;\">\n",
       "      <th></th>\n",
       "      <th>mz</th>\n",
       "      <th>intensity</th>\n",
       "    </tr>\n",
       "  </thead>\n",
       "  <tbody>\n",
       "    <tr>\n",
       "      <th>0</th>\n",
       "      <td>459.638519</td>\n",
       "      <td>13105.375977</td>\n",
       "    </tr>\n",
       "    <tr>\n",
       "      <th>1</th>\n",
       "      <td>470.064972</td>\n",
       "      <td>10583.207031</td>\n",
       "    </tr>\n",
       "    <tr>\n",
       "      <th>2</th>\n",
       "      <td>472.338043</td>\n",
       "      <td>10462.697266</td>\n",
       "    </tr>\n",
       "    <tr>\n",
       "      <th>3</th>\n",
       "      <td>479.018433</td>\n",
       "      <td>10998.292969</td>\n",
       "    </tr>\n",
       "    <tr>\n",
       "      <th>4</th>\n",
       "      <td>507.042847</td>\n",
       "      <td>13371.034180</td>\n",
       "    </tr>\n",
       "  </tbody>\n",
       "</table>\n",
       "</div>"
      ],
      "text/plain": [
       "           mz     intensity\n",
       "0  459.638519  13105.375977\n",
       "1  470.064972  10583.207031\n",
       "2  472.338043  10462.697266\n",
       "3  479.018433  10998.292969\n",
       "4  507.042847  13371.034180"
      ]
     },
     "execution_count": 45,
     "metadata": {},
     "output_type": "execute_result"
    }
   ],
   "source": [
    "dia_data.peak_df.head()"
   ]
  },
  {
   "cell_type": "markdown",
   "metadata": {},
   "source": [
    "#### 3 Map precursor hit from search results to raw data\n",
    "\n",
    "Using this information we can map the identified precursors to the raw data.\n",
    "\n",
    "We will use the `get_library_entry_by_hash` function to get the library entry for a given hash.\n",
    "\n",
    "This function returns the library entry, the fragment m/z values and the fragment intensities.\n",
    "\n"
   ]
  },
  {
   "cell_type": "code",
   "execution_count": 46,
   "metadata": {
    "ExecuteTime": {
     "end_time": "2025-02-04T09:12:21.900462Z",
     "start_time": "2025-02-04T09:12:21.862378Z"
    }
   },
   "outputs": [],
   "source": [
    "hash = precursor_df[\"mod_seq_charge_hash\"].iloc[0]\n",
    "\n",
    "\n",
    "def get_library_entry_by_hash(speclib, hash, min_intensity=0.01):\n",
    "    speclib_entry = speclib.precursor_df[\n",
    "        speclib.precursor_df[\"mod_seq_charge_hash\"] == hash\n",
    "    ].iloc[0]\n",
    "\n",
    "    fragment_mz = (\n",
    "        speclib.fragment_mz_df.iloc[\n",
    "            speclib_entry.frag_start_idx : speclib_entry.frag_stop_idx\n",
    "        ]\n",
    "        .to_numpy()\n",
    "        .flatten()\n",
    "    )\n",
    "    fragment_intensity = (\n",
    "        speclib.fragment_intensity_df.iloc[\n",
    "            speclib_entry.frag_start_idx : speclib_entry.frag_stop_idx\n",
    "        ]\n",
    "        .to_numpy()\n",
    "        .flatten()\n",
    "    )\n",
    "    fragment_mask = fragment_intensity > min_intensity\n",
    "\n",
    "    fragment_mz = fragment_mz[fragment_mask]\n",
    "    fragment_intensity = fragment_intensity[fragment_mask]\n",
    "\n",
    "    # sort both by mz\n",
    "    fragment_order = np.argsort(fragment_mz)\n",
    "    fragment_mz = fragment_mz[fragment_order]\n",
    "    fragment_intensity = fragment_intensity[fragment_order]\n",
    "\n",
    "    return speclib_entry, fragment_mz, fragment_intensity\n",
    "\n",
    "\n",
    "speclib_entry, mz_library, intensity_library = get_library_entry_by_hash(\n",
    "    spectral_library, hash\n",
    ")\n",
    "precursor_entry = precursor_df[precursor_df[\"mod_seq_charge_hash\"] == hash].iloc[0]"
   ]
  },
  {
   "cell_type": "code",
   "execution_count": 47,
   "metadata": {
    "ExecuteTime": {
     "end_time": "2025-02-04T09:12:21.993723Z",
     "start_time": "2025-02-04T09:12:21.917437Z"
    }
   },
   "outputs": [],
   "source": [
    "jit_data = dia_data.jitclass()\n",
    "\n",
    "precursor_query = np.array(\n",
    "    [[speclib_entry.precursor_mz, speclib_entry.precursor_mz]], dtype=np.float32\n",
    ")\n",
    "scan_limits = np.array(\n",
    "    [[precursor_entry.scan_start, precursor_entry.scan_stop, 1]], dtype=np.int64\n",
    ")\n",
    "frame_limits = np.array(\n",
    "    [[precursor_entry.frame_start, precursor_entry.frame_stop, 1]], dtype=np.int64\n",
    ")\n",
    "\n",
    "dense, precursor_index = jit_data.get_dense(\n",
    "    frame_limits,\n",
    "    scan_limits,\n",
    "    mz_library,\n",
    "    30,\n",
    "    precursor_query,\n",
    ")"
   ]
  },
  {
   "cell_type": "markdown",
   "metadata": {},
   "source": [
    "#### 4 Visualize precursor data\n",
    "\n",
    "Now, we want to viosualize the retrieved spectrum data.\n",
    "We will start by visualizing the observed spectrum and the library spectrum.\n",
    "\n",
    "The spectrum data `dense` is a 5 dimensional numpy array with a dense slice of the spectrum space.\n",
    "The dimensions are:\n",
    "- 0: either intensity information 0 or relative mass error 1\n",
    "- 1: index of the fragment mz which was queried\n",
    "- 2: ion mobility dimension (will be zero for DIA data)\n",
    "- 3: The observations in the DIA cycle. As there might be multiple quadrupole windows where the precursor was detected, this will be a list of observations.\n",
    "- 4: Retention time datapoints.\n",
    "\n",
    "First we will select the intensity dimension and sum over all other dimensions but the fragment mz dimension.\n"
   ]
  },
  {
   "cell_type": "code",
   "execution_count": 48,
   "metadata": {
    "ExecuteTime": {
     "end_time": "2025-02-04T09:12:22.094220Z",
     "start_time": "2025-02-04T09:12:21.996576Z"
    }
   },
   "outputs": [
    {
     "data": {
      "image/png": "[encoded data removed]",
      "text/plain": [
       "<Figure size 640x480 with 1 Axes>"
      ]
     },
     "metadata": {},
     "output_type": "display_data"
    }
   ],
   "source": [
    "intensity_observed = dense[0].sum(axis=(1, 2, 3))\n",
    "intensity_observed_normalized = intensity_observed / intensity_observed.max()\n",
    "intensity_library_normalized = intensity_library / intensity_library.max()\n",
    "\n",
    "plt.stem(mz_library, intensity_observed_normalized)\n",
    "plt.stem(mz_library, -intensity_library_normalized)\n",
    "plt.show()"
   ]
  },
  {
   "cell_type": "markdown",
   "metadata": {},
   "source": [
    "Finally, we will visualize the Precusor ion chromatogram.\n",
    "We will again select the intensity dimension and sum over ion mobility and observation but leave the retention time dimension.\n"
   ]
  },
  {
   "cell_type": "code",
   "execution_count": 49,
   "metadata": {
    "ExecuteTime": {
     "end_time": "2025-02-04T09:12:22.233243Z",
     "start_time": "2025-02-04T09:12:22.132808Z"
    }
   },
   "outputs": [
    {
     "data": {
      "image/png": "[encoded data removed]",
      "text/plain": [
       "<Figure size 640x480 with 1 Axes>"
      ]
     },
     "metadata": {},
     "output_type": "display_data"
    }
   ],
   "source": [
    "xic_observed = dense[0].sum(axis=(1, 2))\n",
    "for i in range(xic_observed.shape[0]):\n",
    "    plt.plot(xic_observed[i])\n",
    "plt.show()"
   ]
  },
  {
   "cell_type": "code",
   "execution_count": null,
   "metadata": {
    "ExecuteTime": {
     "end_time": "2025-02-04T09:12:22.281784Z",
     "start_time": "2025-02-04T09:12:22.266917Z"
    }
   },
   "outputs": [],
   "source": []
  }
 ],
 "metadata": {
  "kernelspec": {
   "display_name": "alphadia-validate",
   "language": "python",
   "name": "alphadia-validate"
  },
  "language_info": {
   "codemirror_mode": {
    "name": "ipython",
    "version": 3
   },
   "file_extension": ".py",
   "mimetype": "text/x-python",
   "name": "python",
   "nbconvert_exporter": "python",
   "pygments_lexer": "ipython3",
   "version": "3.11.7"
  },
  "orig_nbformat": 4
 },
 "nbformat": 4,
 "nbformat_minor": 2
}
