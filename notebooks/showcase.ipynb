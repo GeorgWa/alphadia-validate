{
 "cells": [
  {
   "metadata": {},
   "cell_type": "markdown",
   "source": [
    "# ValiDIAte\n",
    "A notebook for exploring DIA hits for the sake of validation."
   ]
  },
  {
   "metadata": {},
   "cell_type": "code",
   "source": [
    "%reload_ext autoreload\n",
    "%autoreload 2"
   ],
   "outputs": [],
   "execution_count": null
  },
  {
   "cell_type": "code",
   "metadata": {},
   "source": [
    "import os\n",
    "\n",
    "from pathlib import Path\n",
    "from showcase.slicer import SpectrumSlicer\n",
    "\n",
    "from showcase.isoform_attention import isoform_attention_plot\n",
    "from showcase.mirror_plotting_2 import plot_mirror_2\n",
    "from mirror_plotting import plot_mirror_byRT\n",
    "from showcase.io import prepare_data\n",
    "\n"
   ],
   "outputs": [],
   "execution_count": null
  },
  {
   "cell_type": "markdown",
   "metadata": {},
   "source": "## 0. Set up data"
  },
  {
   "cell_type": "code",
   "metadata": {},
   "source": "main_folder = Path(os.environ.get(\"MAIN_FOLDER\", \"~//data/alphadia-validate/\")).expanduser()",
   "outputs": [],
   "execution_count": null
  },
  {
   "cell_type": "code",
   "metadata": {},
   "source": [
    "\n",
    "precursor_df, spectral_library, spectral_library_flat, dia_data = prepare_data(\n",
    "    main_folder\n",
    ")"
   ],
   "outputs": [],
   "execution_count": null
  },
  {
   "metadata": {},
   "cell_type": "markdown",
   "source": "## 1. Select a precursor"
  },
  {
   "cell_type": "code",
   "metadata": {},
   "source": [
    "# user input: select a hash\n",
    "selected_hash = precursor_df[\"mod_seq_charge_hash\"].iloc[3000]\n",
    "\n",
    "# alternatively: use a random one from a certain percentile\n",
    "# from showcase.small_helpers import get_random_precursor_hash\n",
    "# selected_hash = get_random_precursor_hash(precursor_df, 0)"
   ],
   "outputs": [],
   "execution_count": null
  },
  {
   "cell_type": "markdown",
   "metadata": {},
   "source": [
    "## 2. Preprocess"
   ]
  },
  {
   "cell_type": "code",
   "metadata": {},
   "source": [
    "library_wrapper = SpectrumSlicer(spectral_library_flat, precursor_df, dia_data)\n",
    "\n",
    "mz_library, intensity_library, spectrum_slice, fragment_library = library_wrapper.get_by_hash(\n",
    "    selected_hash\n",
    ")"
   ],
   "outputs": [],
   "execution_count": null
  },
  {
   "cell_type": "markdown",
   "metadata": {},
   "source": "## 3. Plots"
  },
  {
   "metadata": {},
   "cell_type": "markdown",
   "source": "### Mirror plots\n"
  },
  {
   "cell_type": "code",
   "metadata": {},
   "source": [
    "\n",
    "from mirror_plotting import mirror_w_xic\n",
    "\n",
    "precursor_entry = precursor_df[precursor_df['mod_seq_charge_hash'] == selected_hash].iloc[0]\n",
    "\n",
    "mirror_w_xic(spectrum_slice, mz_library, intensity_library, \n",
    "                 fragment_library, precursor_entry,\n",
    "                 width=500, height=300)\n"
   ],
   "outputs": [],
   "execution_count": null
  },
  {
   "cell_type": "code",
   "metadata": {},
   "source": [
    "\n",
    "plot_mirror_2(spectrum_slice, mz_library, intensity_library, )"
   ],
   "outputs": [],
   "execution_count": null
  },
  {
   "metadata": {},
   "cell_type": "markdown",
   "source": ""
  },
  {
   "metadata": {},
   "cell_type": "markdown",
   "source": "### Isoform attention plot"
  },
  {
   "metadata": {},
   "cell_type": "code",
   "source": [
    "# in case you want to find some precursors with modifications\n",
    "#display(precursor_df[~pd.isna(precursor_df[\"mods\"])][[\"mod_seq_charge_hash\", \"mods\"]].head(10))\n",
    "\n",
    "isoform_attention_plot(spectral_library_flat, precursor_df, dia_data, selected_hash)"
   ],
   "outputs": [],
   "execution_count": null
  },
  {
   "metadata": {},
   "cell_type": "code",
   "source": "",
   "outputs": [],
   "execution_count": null
  }
 ],
 "metadata": {
  "kernelspec": {
   "display_name": "alphadia-validate",
   "language": "python",
   "name": "alphadia-validate"
  },
  "language_info": {
   "codemirror_mode": {
    "name": "ipython",
    "version": 3
   },
   "file_extension": ".py",
   "mimetype": "text/x-python",
   "name": "python",
   "nbconvert_exporter": "python",
   "pygments_lexer": "ipython3",
   "version": "3.11.11"
  }
 },
 "nbformat": 4,
 "nbformat_minor": 4
}
