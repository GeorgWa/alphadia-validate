{
 "cells": [
  {
   "cell_type": "code",
   "metadata": {},
   "source": [
    "%reload_ext autoreload\n",
    "%autoreload 2\n",
    "\n",
    "from pathlib import Path\n",
    "from notebooks.showcase.filter import some_method_name\n"
   ],
   "outputs": [],
   "execution_count": null
  },
  {
   "cell_type": "markdown",
   "metadata": {},
   "source": "### 1. Set up data"
  },
  {
   "metadata": {},
   "cell_type": "code",
   "source": "main_folder = Path(\"~//data/alphadia-validate/\").expanduser()",
   "outputs": [],
   "execution_count": null
  },
  {
   "metadata": {},
   "cell_type": "code",
   "source": [
    "from notebooks.showcase.io import prepare_data\n",
    "precursor_df, spectral_library, spectral_library_flat, dia_data = prepare_data(main_folder)"
   ],
   "outputs": [],
   "execution_count": null
  },
  {
   "cell_type": "code",
   "metadata": {},
   "source": "selected_hash = precursor_df['mod_seq_charge_hash'].iloc[3000]\n",
   "outputs": [],
   "execution_count": null
  },
  {
   "metadata": {},
   "cell_type": "markdown",
   "source": "## 2. Preprocess"
  },
  {
   "cell_type": "code",
   "metadata": {},
   "source": "mz_library, intensity_library, dense = some_method_name(selected_hash, precursor_df, spectral_library_flat, dia_data)",
   "outputs": [],
   "execution_count": null
  },
  {
   "metadata": {},
   "cell_type": "markdown",
   "source": "## 3. Simple plots"
  },
  {
   "cell_type": "code",
   "metadata": {},
   "source": [
    "from notebooks.showcase.plots_original import plot_simple_mirror\n",
    "plot_simple_mirror(dense, intensity_library, mz_library)"
   ],
   "outputs": [],
   "execution_count": null
  },
  {
   "cell_type": "markdown",
   "metadata": {},
   "source": "\n"
  },
  {
   "cell_type": "code",
   "metadata": {},
   "source": [
    "from notebooks.showcase.plots_original import plot_simple_xic\n",
    "plot_simple_xic(dense)"
   ],
   "outputs": [],
   "execution_count": null
  }
 ],
 "metadata": {
  "kernelspec": {
   "display_name": "alphadia-validate",
   "language": "python",
   "name": "alphadia-validate"
  },
  "language_info": {
   "codemirror_mode": {
    "name": "ipython",
    "version": 3
   },
   "file_extension": ".py",
   "mimetype": "text/x-python",
   "name": "python",
   "nbconvert_exporter": "python",
   "pygments_lexer": "ipython3",
   "version": "3.11.7"
  },
  "orig_nbformat": 4
 },
 "nbformat": 4,
 "nbformat_minor": 2
}
