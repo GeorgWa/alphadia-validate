{
 "cells": [
  {
   "cell_type": "markdown",
   "metadata": {},
   "source": [
    "# alphadia-validate\n",
    "A notebook for exploring DIA hits for the sake of validation."
   ]
  },
  {
   "cell_type": "code",
   "metadata": {},
   "source": [
    "%reload_ext autoreload\n",
    "%autoreload 2"
   ],
   "outputs": [],
   "execution_count": null
  },
  {
   "cell_type": "code",
   "metadata": {},
   "source": [
    "import os\n",
    "\n",
    "from pathlib import Path\n",
    "from src.slicer import SpectrumSlicer\n",
    "\n",
    "from src.isoform_attention import isoform_attention_plot\n",
    "from src.io import prepare_data\n",
    "from src.mirror_plotting import mirror_w_xic_w_corrs\n",
    "\n",
    "from IPython.display import Image"
   ],
   "outputs": [],
   "execution_count": null
  },
  {
   "cell_type": "markdown",
   "metadata": {},
   "source": [
    "## 0. Set up data"
   ]
  },
  {
   "cell_type": "code",
   "metadata": {},
   "source": [
    "# this is the folder where the data should be read from / downloaded to\n",
    "custom_folder = \"~//alphadia-validate\"\n",
    "\n",
    "# either download example data ..\n",
    "download_data = True\n",
    "\n",
    "# .. or use your own data\n",
    "# download_data = False\n",
    "raw_file_name = \"20231017_OA2_TiHe_ADIAMA_HeLa_200ng_Evo011_21min_F-40_07.raw\" # raw file\n",
    "precursors_file_name = \"precursors.csv\" # output of an AlphaDIA search (cf. search.ipynb)\n",
    "speclib_file_name = \"speclib.hdf\" # output of an AlphaDIA search (cf. search.ipynb)"
   ],
   "outputs": [],
   "execution_count": null
  },
  {
   "cell_type": "code",
   "metadata": {},
   "source": [
    "main_folder = Path(os.environ.get(\"BASE_FOLDER\", custom_folder)).expanduser()\n",
    "\n",
    "if download_data:\n",
    "    precursor_df, spectral_library, spectral_library_flat, dia_data = prepare_data(\n",
    "        main_folder, download_data=True\n",
    "    )\n",
    "else:\n",
    "    precursor_df, spectral_library, spectral_library_flat, dia_data = prepare_data(\n",
    "    main_folder,\n",
    "    raw_file_name = raw_file_name,\n",
    "    precursors_file_name = speclib_file_name,\n",
    "    speclib_file_name = precursors_file_name\n",
    ")\n"
   ],
   "outputs": [],
   "execution_count": null
  },
  {
   "cell_type": "markdown",
   "metadata": {},
   "source": [
    "## 1. Select a precursor"
   ]
  },
  {
   "cell_type": "code",
   "metadata": {},
   "source": [
    "# user input: select a hash\n",
    "selected_hash = precursor_df[\"mod_seq_charge_hash\"].iloc[3000]\n",
    "\n",
    "# alternatively: use a random one from a certain percentile\n",
    "# from src.small_helpers import get_random_precursor_hash\n",
    "# selected_hash = get_random_precursor_hash(precursor_df, 0)"
   ],
   "outputs": [],
   "execution_count": null
  },
  {
   "cell_type": "markdown",
   "metadata": {},
   "source": [
    "## 2. Preprocess"
   ]
  },
  {
   "cell_type": "code",
   "metadata": {},
   "source": [
    "library_wrapper = SpectrumSlicer(spectral_library_flat, precursor_df, dia_data)\n",
    "\n",
    "mz_library, intensity_library, spectrum_slice, fragment_library = (\n",
    "    library_wrapper.get_by_hash(selected_hash)\n",
    ")"
   ],
   "outputs": [],
   "execution_count": null
  },
  {
   "cell_type": "markdown",
   "metadata": {},
   "source": [
    "## 3. Plots"
   ]
  },
  {
   "cell_type": "markdown",
   "metadata": {},
   "source": [
    "### Mirror plots\n"
   ]
  },
  {
   "cell_type": "code",
   "metadata": {},
   "source": [
    "mirror_w_xic_w_corrs(\n",
    "    spectrum_slice,\n",
    "    mz_library,\n",
    "    intensity_library,\n",
    "    fragment_library,\n",
    "    precursor_df,\n",
    "    selected_hash,\n",
    "    width=500,\n",
    "    height=300,\n",
    ")"
   ],
   "outputs": [],
   "execution_count": null
  },
  {
   "cell_type": "code",
   "metadata": {},
   "source": [
    "# this is just for display on GitHub as it does not show altair plots\n",
    "Image(filename=\"../misc/mirror.png\")"
   ],
   "outputs": [],
   "execution_count": null
  },
  {
   "cell_type": "code",
   "metadata": {},
   "source": [
    "# plot_mirror_2(spectrum_slice, mz_library, intensity_library, )"
   ],
   "outputs": [],
   "execution_count": null
  },
  {
   "cell_type": "markdown",
   "metadata": {},
   "source": [
    "### Isoform attention plot"
   ]
  },
  {
   "cell_type": "code",
   "metadata": {},
   "source": [
    "# in case you want to find some precursors with modifications:\n",
    "# display(precursor_df[~pd.isna(precursor_df[\"mods\"])][[\"mod_seq_charge_hash\", \"mods\"]].head(10))\n",
    "\n",
    "isoform_attention_plot(spectral_library_flat, precursor_df, dia_data, selected_hash)"
   ],
   "outputs": [],
   "execution_count": null
  },
  {
   "cell_type": "markdown",
   "metadata": {},
   "source": [
    "### Shared fragments\n",
    "In order to play with that plot, use the `shared_fragment_histogram.ipynb` notebook."
   ]
  },
  {
   "cell_type": "code",
   "metadata": {},
   "source": [
    "Image(filename=\"../misc/shared_fragment_histogram.png\")"
   ],
   "outputs": [],
   "execution_count": null
  },
  {
   "metadata": {},
   "cell_type": "code",
   "source": "",
   "outputs": [],
   "execution_count": null
  }
 ],
 "metadata": {
  "kernelspec": {
   "display_name": "alphadia-validate",
   "language": "python",
   "name": "alphadia-validate"
  },
  "language_info": {
   "codemirror_mode": {
    "name": "ipython",
    "version": 3
   },
   "file_extension": ".py",
   "mimetype": "text/x-python",
   "name": "python",
   "nbconvert_exporter": "python",
   "pygments_lexer": "ipython3",
   "version": "3.11.11"
  }
 },
 "nbformat": 4,
 "nbformat_minor": 4
}
